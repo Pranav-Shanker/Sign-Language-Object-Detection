{
 "cells": [
  {
   "cell_type": "markdown",
   "metadata": {},
   "source": [
    "# 1. Import Dependencies"
   ]
  },
  {
   "cell_type": "code",
   "execution_count": 1,
   "metadata": {},
   "outputs": [
    {
     "name": "stdout",
     "output_type": "stream",
     "text": [
      "Defaulting to user installation because normal site-packages is not writeable\n",
      "Requirement already satisfied: opencv-python in c:\\users\\pranav\\appdata\\roaming\\python\\python311\\site-packages (4.8.1.78)\n",
      "Requirement already satisfied: numpy>=1.21.2 in c:\\users\\pranav\\appdata\\roaming\\python\\python311\\site-packages (from opencv-python) (1.26.1)\n"
     ]
    }
   ],
   "source": [
    "!pip install opencv-python"
   ]
  },
  {
   "cell_type": "code",
   "execution_count": 2,
   "metadata": {},
   "outputs": [],
   "source": [
    "# Import opencv\n",
    "import cv2 \n",
    "\n",
    "# Import uuid\n",
    "import uuid\n",
    "\n",
    "# Import Operating System\n",
    "import os\n",
    "\n",
    "# Import time\n",
    "import time"
   ]
  },
  {
   "cell_type": "markdown",
   "metadata": {},
   "source": [
    "# 2. Define Images to Collect"
   ]
  },
  {
   "cell_type": "code",
   "execution_count": 3,
   "metadata": {},
   "outputs": [],
   "source": [
    "labels = ['thumbsup', 'thumbsdown', 'thankyou', 'livelong']\n",
    "number_imgs = 5"
   ]
  },
  {
   "cell_type": "code",
   "execution_count": 4,
   "metadata": {},
   "outputs": [
    {
     "data": {
      "text/plain": [
       "['thumbsup', 'thumbsdown', 'thankyou', 'livelong']"
      ]
     },
     "execution_count": 4,
     "metadata": {},
     "output_type": "execute_result"
    }
   ],
   "source": [
    "labels\n"
   ]
  },
  {
   "cell_type": "markdown",
   "metadata": {},
   "source": [
    "# 3. Setup Folders "
   ]
  },
  {
   "cell_type": "code",
   "execution_count": 5,
   "metadata": {},
   "outputs": [],
   "source": [
    "IMAGES_PATH = os.path.join('Tensorflow', 'workspace', 'images', 'collectedimages')"
   ]
  },
  {
   "cell_type": "code",
   "execution_count": 6,
   "metadata": {},
   "outputs": [
    {
     "name": "stderr",
     "output_type": "stream",
     "text": [
      "A subdirectory or file C:\\Users\\Pranav\\Favorites\\object_detection\\TFODCourse\\Tensorflow\\workspace\\images\\collectedimages already exists.\n"
     ]
    }
   ],
   "source": [
    "current_directory = os.getcwd()\n",
    "folder_path = os.path.join(current_directory,'Tensorflow', 'workspace', 'images', 'collectedimages')\n",
    "!mkdir {folder_path}\n"
   ]
  },
  {
   "cell_type": "code",
   "execution_count": 7,
   "metadata": {},
   "outputs": [
    {
     "name": "stdout",
     "output_type": "stream",
     "text": [
      "C:\\Users\\Pranav\\Favorites\\object_detection\\TFODCourse\\Tensorflow\\workspace\\images\\collectedimages C:\\Users\\Pranav\\Favorites\\object_detection\\TFODCourse\n"
     ]
    }
   ],
   "source": [
    "print(folder_path, current_directory)"
   ]
  },
  {
   "cell_type": "code",
   "execution_count": 8,
   "metadata": {},
   "outputs": [],
   "source": [
    "if not os.path.exists(IMAGES_PATH):\n",
    "    if os.name == 'posix':\n",
    "        !mkdir -p {IMAGES_PATH}\n",
    "    if os.name == 'nt':\n",
    "         !mkdir {IMAGES_PATH}\n",
    "for label in labels:\n",
    "    path = os.path.join(IMAGES_PATH, label)\n",
    "    if not os.path.exists(path):\n",
    "        !mkdir {path}"
   ]
  },
  {
   "cell_type": "markdown",
   "metadata": {},
   "source": [
    "# 4. Capture Images"
   ]
  },
  {
   "cell_type": "code",
   "execution_count": 9,
   "metadata": {},
   "outputs": [
    {
     "name": "stdout",
     "output_type": "stream",
     "text": [
      "Collecting images for thumbsup\n",
      "Collecting image 0\n",
      "Collecting image 1\n",
      "Collecting image 2\n",
      "Collecting image 3\n",
      "Collecting image 4\n",
      "Collecting images for thumbsdown\n",
      "Collecting image 0\n",
      "Collecting image 1\n",
      "Collecting image 2\n",
      "Collecting image 3\n",
      "Collecting image 4\n",
      "Collecting images for thankyou\n",
      "Collecting image 0\n",
      "Collecting image 1\n",
      "Collecting image 2\n",
      "Collecting image 3\n",
      "Collecting image 4\n",
      "Collecting images for livelong\n",
      "Collecting image 0\n",
      "Collecting image 1\n",
      "Collecting image 2\n",
      "Collecting image 3\n",
      "Collecting image 4\n"
     ]
    }
   ],
   "source": [
    "for label in labels:\n",
    "    cap = cv2.VideoCapture(0)\n",
    "    print('Collecting images for {}'.format(label))\n",
    "    time.sleep(5)\n",
    "    for imgnum in range(number_imgs):\n",
    "        print('Collecting image {}'.format(imgnum))\n",
    "        ret, frame = cap.read()\n",
    "        imgname = os.path.join(IMAGES_PATH,label,label+'.'+'{}.jpg'.format(str(uuid.uuid1())))\n",
    "        cv2.imwrite(imgname, frame)\n",
    "        cv2.imshow('frame', frame)\n",
    "        time.sleep(2)\n",
    "\n",
    "        if cv2.waitKey(1) & 0xFF == ord('q'):\n",
    "            break\n",
    "cap.release()\n",
    "cv2.destroyAllWindows()"
   ]
  },
  {
   "cell_type": "markdown",
   "metadata": {},
   "source": [
    "# 5. Image Labelling"
   ]
  },
  {
   "cell_type": "code",
   "execution_count": 10,
   "metadata": {},
   "outputs": [
    {
     "name": "stdout",
     "output_type": "stream",
     "text": [
      "Defaulting to user installation because normal site-packages is not writeable\n",
      "Collecting pyqt5\n",
      "  Obtaining dependency information for pyqt5 from https://files.pythonhosted.org/packages/ca/ac/596e8ca16fd0634542d874c0d79219fc527ea7de73a5000092f60ecbf6e9/PyQt5-5.15.10-cp37-abi3-win_amd64.whl.metadata\n",
      "  Downloading PyQt5-5.15.10-cp37-abi3-win_amd64.whl.metadata (2.2 kB)\n",
      "Requirement already satisfied: lxml in c:\\users\\pranav\\appdata\\roaming\\python\\python311\\site-packages (4.9.3)\n",
      "Collecting PyQt5-sip<13,>=12.13 (from pyqt5)\n",
      "  Obtaining dependency information for PyQt5-sip<13,>=12.13 from https://files.pythonhosted.org/packages/8e/e2/d296cb17bae19ba49137a2649934a70d5f48cc99b7daa6ce9cf1aecddfeb/PyQt5_sip-12.13.0-cp311-cp311-win_amd64.whl.metadata\n",
      "  Downloading PyQt5_sip-12.13.0-cp311-cp311-win_amd64.whl.metadata (524 bytes)\n",
      "Collecting PyQt5-Qt5>=5.15.2 (from pyqt5)\n",
      "  Downloading PyQt5_Qt5-5.15.2-py3-none-win_amd64.whl (50.1 MB)\n",
      "     ---------------------------------------- 0.0/50.1 MB ? eta -:--:--\n",
      "     ---------------------------------------- 0.6/50.1 MB 12.9 MB/s eta 0:00:04\n",
      "      --------------------------------------- 1.0/50.1 MB 22.0 MB/s eta 0:00:03\n",
      "     - -------------------------------------- 1.6/50.1 MB 13.0 MB/s eta 0:00:04\n",
      "     -- ------------------------------------- 3.7/50.1 MB 21.3 MB/s eta 0:00:03\n",
      "     --- ------------------------------------ 4.2/50.1 MB 24.3 MB/s eta 0:00:02\n",
      "     --- ------------------------------------ 4.2/50.1 MB 24.3 MB/s eta 0:00:02\n",
      "     --- ------------------------------------ 4.2/50.1 MB 24.3 MB/s eta 0:00:02\n",
      "     --- ------------------------------------ 4.2/50.1 MB 24.3 MB/s eta 0:00:02\n",
      "     --- ------------------------------------ 4.2/50.1 MB 24.3 MB/s eta 0:00:02\n",
      "     --- ------------------------------------ 4.2/50.1 MB 24.3 MB/s eta 0:00:02\n",
      "     --- ------------------------------------ 4.2/50.1 MB 24.3 MB/s eta 0:00:02\n",
      "     ---- ----------------------------------- 5.6/50.1 MB 10.5 MB/s eta 0:00:05\n",
      "     ----- ---------------------------------- 6.3/50.1 MB 11.8 MB/s eta 0:00:04\n",
      "     ----- ---------------------------------- 6.3/50.1 MB 11.8 MB/s eta 0:00:04\n",
      "     ----- ---------------------------------- 6.3/50.1 MB 11.8 MB/s eta 0:00:04\n",
      "     ----- ---------------------------------- 6.3/50.1 MB 11.8 MB/s eta 0:00:04\n",
      "     ----- ---------------------------------- 6.3/50.1 MB 11.8 MB/s eta 0:00:04\n",
      "     ----- ---------------------------------- 6.3/50.1 MB 11.8 MB/s eta 0:00:04\n",
      "     ------ --------------------------------- 7.5/50.1 MB 9.1 MB/s eta 0:00:05\n",
      "     ------ --------------------------------- 8.4/50.1 MB 9.9 MB/s eta 0:00:05\n",
      "     ------- -------------------------------- 9.4/50.1 MB 10.6 MB/s eta 0:00:04\n",
      "     ------- -------------------------------- 9.4/50.1 MB 10.6 MB/s eta 0:00:04\n",
      "     -------- ------------------------------ 10.8/50.1 MB 10.6 MB/s eta 0:00:04\n",
      "     -------- ------------------------------ 11.5/50.1 MB 11.5 MB/s eta 0:00:04\n",
      "     --------- ----------------------------- 12.5/50.1 MB 10.7 MB/s eta 0:00:04\n",
      "     ----------- --------------------------- 14.3/50.1 MB 10.6 MB/s eta 0:00:04\n",
      "     ------------ -------------------------- 16.2/50.1 MB 16.0 MB/s eta 0:00:03\n",
      "     -------------- ------------------------ 18.3/50.1 MB 27.3 MB/s eta 0:00:02\n",
      "     ---------------- ---------------------- 21.4/50.1 MB 40.9 MB/s eta 0:00:01\n",
      "     ----------------- --------------------- 22.6/50.1 MB 46.7 MB/s eta 0:00:01\n",
      "     ----------------- --------------------- 23.1/50.1 MB 43.5 MB/s eta 0:00:01\n",
      "     ------------------ -------------------- 24.1/50.1 MB 32.8 MB/s eta 0:00:01\n",
      "     ------------------- ------------------- 25.2/50.1 MB 36.4 MB/s eta 0:00:01\n",
      "     -------------------- ------------------ 25.9/50.1 MB 31.2 MB/s eta 0:00:01\n",
      "     --------------------- ----------------- 27.3/50.1 MB 28.5 MB/s eta 0:00:01\n",
      "     --------------------- ----------------- 28.1/50.1 MB 26.2 MB/s eta 0:00:01\n",
      "     ----------------------- --------------- 30.2/50.1 MB 26.2 MB/s eta 0:00:01\n",
      "     ----------------------- --------------- 30.4/50.1 MB 26.2 MB/s eta 0:00:01\n",
      "     ----------------------- --------------- 30.4/50.1 MB 26.2 MB/s eta 0:00:01\n",
      "     ----------------------- --------------- 30.4/50.1 MB 26.2 MB/s eta 0:00:01\n",
      "     ----------------------- --------------- 30.4/50.1 MB 26.2 MB/s eta 0:00:01\n",
      "     ------------------------ -------------- 31.3/50.1 MB 16.8 MB/s eta 0:00:02\n",
      "     ------------------------ -------------- 31.5/50.1 MB 16.8 MB/s eta 0:00:02\n",
      "     ------------------------ -------------- 31.5/50.1 MB 16.8 MB/s eta 0:00:02\n",
      "     ------------------------ -------------- 31.5/50.1 MB 16.8 MB/s eta 0:00:02\n",
      "     ------------------------ -------------- 31.5/50.1 MB 16.8 MB/s eta 0:00:02\n",
      "     ------------------------ -------------- 31.5/50.1 MB 16.8 MB/s eta 0:00:02\n",
      "     ------------------------ -------------- 31.5/50.1 MB 16.8 MB/s eta 0:00:02\n",
      "     ------------------------- ------------- 32.5/50.1 MB 11.7 MB/s eta 0:00:02\n",
      "     ------------------------- ------------- 32.5/50.1 MB 11.7 MB/s eta 0:00:02\n",
      "     -------------------------- ------------ 33.5/50.1 MB 11.7 MB/s eta 0:00:02\n",
      "     -------------------------- ------------ 33.5/50.1 MB 11.7 MB/s eta 0:00:02\n",
      "     -------------------------- ------------ 34.6/50.1 MB 11.1 MB/s eta 0:00:02\n",
      "     -------------------------- ------------ 34.6/50.1 MB 11.1 MB/s eta 0:00:02\n",
      "     --------------------------- ----------- 35.6/50.1 MB 11.1 MB/s eta 0:00:02\n",
      "     --------------------------- ----------- 35.6/50.1 MB 11.1 MB/s eta 0:00:02\n",
      "     --------------------------- ----------- 35.6/50.1 MB 11.1 MB/s eta 0:00:02\n",
      "     --------------------------- ----------- 35.6/50.1 MB 11.1 MB/s eta 0:00:02\n",
      "     --------------------------- ----------- 35.6/50.1 MB 11.1 MB/s eta 0:00:02\n",
      "     --------------------------- ----------- 35.6/50.1 MB 11.1 MB/s eta 0:00:02\n",
      "     --------------------------- ----------- 35.6/50.1 MB 11.1 MB/s eta 0:00:02\n",
      "     ----------------------------- ---------- 36.7/50.1 MB 8.2 MB/s eta 0:00:02\n",
      "     ----------------------------- ---------- 36.7/50.1 MB 8.2 MB/s eta 0:00:02\n",
      "     ------------------------------ --------- 37.6/50.1 MB 8.0 MB/s eta 0:00:02\n",
      "     ------------------------------ --------- 38.8/50.1 MB 8.0 MB/s eta 0:00:02\n",
      "     ------------------------------ --------- 38.8/50.1 MB 8.0 MB/s eta 0:00:02\n",
      "     ------------------------------ --------- 38.8/50.1 MB 8.0 MB/s eta 0:00:02\n",
      "     ------------------------------ --------- 38.8/50.1 MB 8.0 MB/s eta 0:00:02\n",
      "     ------------------------------ --------- 38.8/50.1 MB 8.0 MB/s eta 0:00:02\n",
      "     ------------------------------ --------- 38.8/50.1 MB 8.0 MB/s eta 0:00:02\n",
      "     ------------------------------ --------- 38.8/50.1 MB 8.0 MB/s eta 0:00:02\n",
      "     ------------------------------ --------- 38.8/50.1 MB 8.0 MB/s eta 0:00:02\n",
      "     ------------------------------- -------- 38.9/50.1 MB 6.1 MB/s eta 0:00:02\n",
      "     -------------------------------- ------- 40.7/50.1 MB 6.9 MB/s eta 0:00:02\n",
      "     -------------------------------- ------- 40.9/50.1 MB 6.9 MB/s eta 0:00:02\n",
      "     -------------------------------- ------- 41.1/50.1 MB 6.6 MB/s eta 0:00:02\n",
      "     --------------------------------- ------ 41.9/50.1 MB 8.0 MB/s eta 0:00:02\n",
      "     --------------------------------- ------ 42.2/50.1 MB 7.6 MB/s eta 0:00:02\n",
      "     ---------------------------------- ----- 43.0/50.1 MB 8.0 MB/s eta 0:00:01\n",
      "     ---------------------------------- ----- 43.7/50.1 MB 7.6 MB/s eta 0:00:01\n",
      "     ------------------------------------ --- 45.1/50.1 MB 8.3 MB/s eta 0:00:01\n",
      "     ----------------------------------- --- 46.1/50.1 MB 10.9 MB/s eta 0:00:01\n",
      "     ----------------------------------- --- 46.1/50.1 MB 10.9 MB/s eta 0:00:01\n",
      "     ----------------------------------- --- 46.1/50.1 MB 10.9 MB/s eta 0:00:01\n",
      "     ----------------------------------- --- 46.1/50.1 MB 10.9 MB/s eta 0:00:01\n",
      "     ----------------------------------- --- 46.1/50.1 MB 10.9 MB/s eta 0:00:01\n",
      "     ----------------------------------- --- 46.1/50.1 MB 10.9 MB/s eta 0:00:01\n",
      "     ----------------------------------- --- 46.1/50.1 MB 10.9 MB/s eta 0:00:01\n",
      "     ----------------------------------- --- 46.1/50.1 MB 10.9 MB/s eta 0:00:01\n",
      "     ------------------------------------- -- 46.4/50.1 MB 7.7 MB/s eta 0:00:01\n",
      "     -------------------------------------- - 48.0/50.1 MB 8.1 MB/s eta 0:00:01\n",
      "     -------------------------------------- - 48.2/50.1 MB 8.0 MB/s eta 0:00:01\n",
      "     --------------------------------------  50.1/50.1 MB 10.9 MB/s eta 0:00:01\n",
      "     --------------------------------------  50.1/50.1 MB 10.9 MB/s eta 0:00:01\n",
      "     --------------------------------------  50.1/50.1 MB 10.9 MB/s eta 0:00:01\n",
      "     --------------------------------------  50.1/50.1 MB 10.9 MB/s eta 0:00:01\n",
      "     ---------------------------------------- 50.1/50.1 MB 8.8 MB/s eta 0:00:00\n",
      "Downloading PyQt5-5.15.10-cp37-abi3-win_amd64.whl (6.8 MB)\n",
      "   ---------------------------------------- 0.0/6.8 MB ? eta -:--:--\n",
      "   ---------------- ----------------------- 2.9/6.8 MB 60.6 MB/s eta 0:00:01\n",
      "   ------------------------------ --------- 5.2/6.8 MB 55.2 MB/s eta 0:00:01\n",
      "   ---------------------------------------  6.8/6.8 MB 54.6 MB/s eta 0:00:01\n",
      "   ---------------------------------------- 6.8/6.8 MB 43.5 MB/s eta 0:00:00\n",
      "Downloading PyQt5_sip-12.13.0-cp311-cp311-win_amd64.whl (78 kB)\n",
      "   ---------------------------------------- 0.0/78.5 kB ? eta -:--:--\n",
      "   ---------------------------------------- 78.5/78.5 kB ? eta 0:00:00\n",
      "Installing collected packages: PyQt5-Qt5, PyQt5-sip, pyqt5\n",
      "Successfully installed PyQt5-Qt5-5.15.2 PyQt5-sip-12.13.0 pyqt5-5.15.10\n"
     ]
    }
   ],
   "source": [
    "!pip install --upgrade pyqt5 lxml"
   ]
  },
  {
   "cell_type": "code",
   "execution_count": 11,
   "metadata": {},
   "outputs": [
    {
     "name": "stdout",
     "output_type": "stream",
     "text": [
      "C:\\Users\\Pranav\\Favorites\\object_detection\\TFODCourse\\Tensorflow\\workspace\\images\\collectedimages C:\\Users\\Pranav\\Favorites\\object_detection\\TFODCourse\n"
     ]
    }
   ],
   "source": [
    "print(folder_path, current_directory)"
   ]
  },
  {
   "cell_type": "code",
   "execution_count": 12,
   "metadata": {},
   "outputs": [],
   "source": [
    "LABELIMG_PATH = os.path.join('Tensorflow', 'labelimg')"
   ]
  },
  {
   "cell_type": "code",
   "execution_count": 13,
   "metadata": {},
   "outputs": [
    {
     "name": "stderr",
     "output_type": "stream",
     "text": [
      "Cloning into 'Tensorflow\\labelimg'...\n"
     ]
    }
   ],
   "source": [
    "if not os.path.exists(LABELIMG_PATH):\n",
    "    !mkdir {LABELIMG_PATH}\n",
    "    !git clone https://github.com/tzutalin/labelImg {LABELIMG_PATH}"
   ]
  },
  {
   "cell_type": "code",
   "execution_count": 14,
   "metadata": {},
   "outputs": [],
   "source": [
    "if os.name == 'posix':\n",
    "    !make qt5py3\n",
    "if os.name =='nt':\n",
    "    !cd {LABELIMG_PATH} && pyrcc5 -o libs/resources.py resources.qrc"
   ]
  },
  {
   "cell_type": "code",
   "execution_count": null,
   "metadata": {},
   "outputs": [],
   "source": [
    "!cd {LABELIMG_PATH} && python labelImg.py"
   ]
  },
  {
   "cell_type": "markdown",
   "metadata": {},
   "source": [
    "# 6. Move them into a Training and Testing Partition"
   ]
  },
  {
   "cell_type": "markdown",
   "metadata": {},
   "source": [
    "# OPTIONAL - 7. Compress them for Colab Training"
   ]
  },
  {
   "cell_type": "code",
   "execution_count": 20,
   "metadata": {},
   "outputs": [],
   "source": [
    "TRAIN_PATH = os.path.join('Tensorflow', 'workspace', 'images', 'train')\n",
    "TEST_PATH = os.path.join('Tensorflow', 'workspace', 'images', 'test')\n",
    "ARCHIVE_PATH = os.path.join('Tensorflow', 'workspace', 'images', 'archive.tar.gz')"
   ]
  },
  {
   "cell_type": "code",
   "execution_count": 21,
   "metadata": {},
   "outputs": [],
   "source": [
    "!tar -czf {ARCHIVE_PATH} {TRAIN_PATH} {TEST_PATH}"
   ]
  },
  {
   "cell_type": "code",
   "execution_count": null,
   "metadata": {},
   "outputs": [],
   "source": []
  }
 ],
 "metadata": {
  "kernelspec": {
   "display_name": "tfodj",
   "language": "python",
   "name": "tfodj"
  },
  "language_info": {
   "codemirror_mode": {
    "name": "ipython",
    "version": 3
   },
   "file_extension": ".py",
   "mimetype": "text/x-python",
   "name": "python",
   "nbconvert_exporter": "python",
   "pygments_lexer": "ipython3",
   "version": "3.11.3"
  }
 },
 "nbformat": 4,
 "nbformat_minor": 4
}
